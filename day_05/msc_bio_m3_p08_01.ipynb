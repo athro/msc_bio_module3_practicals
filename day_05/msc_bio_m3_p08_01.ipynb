{
 "cells": [
  {
   "cell_type": "markdown",
   "metadata": {},
   "source": [
    "# SVMs Practical 1\n",
    "We will start exploring how to use SVM to solve a 2-class classification problem."
   ]
  },
  {
   "cell_type": "code",
   "execution_count": null,
   "metadata": {},
   "outputs": [],
   "source": [
    "## Import neccessary libraries\n",
    "import numpy as np\n",
    "import matplotlib.pyplot as plt\n",
    "%matplotlib inline\n",
    "from sklearn.datasets.samples_generator import make_blobs\n",
    "from sklearn import svm # \"Support vector classifier\""
   ]
  },
  {
   "cell_type": "code",
   "execution_count": null,
   "metadata": {},
   "outputs": [],
   "source": [
    "def plot_svc_decision_function(X, Y, model, xlim = None, ylim = None, plot_support=True):\n",
    "    \"\"\"Plot the decision function for a 2D SVC\"\"\"\n",
    "    \n",
    "    if (xlim and ylim) is None:\n",
    "        xlim = [min(X[:,0]), max(X[:, 0])]\n",
    "        ylim = [min(X[:,1]), max(X[:, 1])]\n",
    "\n",
    "    # create grid to evaluate model\n",
    "    x = np.linspace(xlim[0], xlim[1], 30)\n",
    "    y = np.linspace(ylim[0], ylim[1], 30)\n",
    "    yy, xx = np.meshgrid(y, x)\n",
    "    xy = np.vstack([xx.ravel(), yy.ravel()]).T\n",
    "    \n",
    "    #if more than 2 classes, just plot boundary, otherwise plot margin as well\n",
    "    if len(model.classes_) > 2:\n",
    "        Z = model.predict(xy)\n",
    "        Z = Z.reshape(xx.shape)\n",
    "        plt.contourf(xx, yy, Z, cmap=plt.cm.Paired, alpha=0.2)\n",
    "    else:\n",
    "        P = model.decision_function(xy).reshape(xx.shape)\n",
    "        # plot decision boundary and margins\n",
    "        plt.contour(xx, yy, P, colors='k',\n",
    "               levels=[-1, 0, 1], alpha=0.5,\n",
    "               linestyles=['--', '-', '--'])\n",
    "    # plot support vectors\n",
    "    if plot_support:\n",
    "        plt.scatter(model.support_vectors_[:, 0],\n",
    "                   model.support_vectors_[:, 1],\n",
    "                   s=300, linewidth=1, facecolors='none', edgecolors='black');\n",
    "        \n",
    "    for yy in set(Y):\n",
    "        plt.scatter(X[Y == yy, 0], X[Y == yy, 1], label = \"Class \" + str(yy))\n",
    "    \n",
    "    plt.legend(loc = 'best')\n",
    "    \n",
    "    plt.xlim(xlim)\n",
    "    plt.ylim(ylim)"
   ]
  },
  {
   "cell_type": "code",
   "execution_count": null,
   "metadata": {},
   "outputs": [],
   "source": [
    "# generate an artificial data set, with 500 data points and 2 classes.\n",
    "\n",
    "X, y = make_blobs(n_samples=200, centers=2, random_state=2, cluster_std=0.45)"
   ]
  },
  {
   "cell_type": "code",
   "execution_count": null,
   "metadata": {},
   "outputs": [],
   "source": [
    "# Looking at the first ten examples.\n",
    "X[0:10]"
   ]
  },
  {
   "cell_type": "code",
   "execution_count": null,
   "metadata": {},
   "outputs": [],
   "source": [
    "y[0:10]"
   ]
  },
  {
   "cell_type": "code",
   "execution_count": null,
   "metadata": {},
   "outputs": [],
   "source": [
    "#Let's plot them\n",
    "plt.scatter(X[y == 0, 0], X[y == 0, 1], label = \"Class 0\")\n",
    "plt.scatter(X[y == 1, 0], X[y == 1, 1], label = \"Class 1\")\n",
    "plt.legend(loc = 'lower right')"
   ]
  },
  {
   "cell_type": "code",
   "execution_count": null,
   "metadata": {},
   "outputs": [],
   "source": [
    "#From the plot you can see that we can see that this data set can be separated linearly. \n",
    "#We will use SVM linear to find the decision boundary.\n",
    "#Create a SVM model with linear kernel and set gamma to auto\n",
    "model_lr = svm.SVC(kernel = 'linear', gamma='auto')\n",
    "model_lr.fit(X, y)  \n"
   ]
  },
  {
   "cell_type": "code",
   "execution_count": null,
   "metadata": {},
   "outputs": [],
   "source": [
    "#Let's look at the support vector\n",
    "model_lr.support_vectors_"
   ]
  },
  {
   "cell_type": "code",
   "execution_count": null,
   "metadata": {},
   "outputs": [],
   "source": [
    "plot_svc_decision_function(X, y, model_lr, plot_support=True)"
   ]
  },
  {
   "cell_type": "code",
   "execution_count": null,
   "metadata": {},
   "outputs": [],
   "source": [
    "#Now let's use the RBF kernal\n",
    "model_rbf = svm.SVC(kernel = 'rbf', gamma='auto')\n",
    "model_rbf.fit(X, y)"
   ]
  },
  {
   "cell_type": "code",
   "execution_count": null,
   "metadata": {},
   "outputs": [],
   "source": [
    "# Number of support vectors in RBF SVM\n",
    "len(model_rbf.support_vectors_)"
   ]
  },
  {
   "cell_type": "code",
   "execution_count": null,
   "metadata": {},
   "outputs": [],
   "source": [
    "#plot the decision boundary\n",
    "plot_svc_decision_function(X, y, model_rbf)\n",
    "# ax = plt.gca()\n",
    "# plt.xlim(-10,10)\n",
    "# plt.ylim(-10,10)"
   ]
  },
  {
   "cell_type": "code",
   "execution_count": null,
   "metadata": {},
   "outputs": [],
   "source": [
    "#Perform prediction\n",
    "\n",
    "\n",
    "# Q1: What do you think the outcome will be given X = [0, -6]? Do you think SVM linear and SVM RBF will give \n",
    "# the same results? and why?\n",
    "plt.scatter(X[y == 0, 0], X[y == 0, 1], label = \"Class 0\")\n",
    "plt.scatter(X[y == 1, 0], X[y == 1, 1], label = \"Class 1\")\n",
    "plt.legend(loc = 'lower right')\n",
    "plt.plot(0, -6, marker = 'x', c = 'red')"
   ]
  },
  {
   "cell_type": "markdown",
   "metadata": {},
   "source": [
    "# Questions\n",
    "\n",
    "## Q1:\n",
    "\n",
    "What do you think the outcome will be given X = [0, -6]? Do you think SVM linear and SVM RBF will give the same results? and why?"
   ]
  },
  {
   "cell_type": "code",
   "execution_count": null,
   "metadata": {},
   "outputs": [],
   "source": []
  },
  {
   "cell_type": "markdown",
   "metadata": {},
   "source": [
    "## Q2: \n",
    "\n",
    "Write a script to: \n",
    "1) plot the point X = [0, -6] \n",
    "2) plot the decision boundary of the two models"
   ]
  },
  {
   "cell_type": "code",
   "execution_count": null,
   "metadata": {},
   "outputs": [],
   "source": []
  },
  {
   "cell_type": "markdown",
   "metadata": {},
   "source": [
    "## Q3: \n",
    "\n",
    "Edit the code to generate the prediction given X = [0, -6] on the two models\n",
    "Hint: function predict() "
   ]
  },
  {
   "cell_type": "code",
   "execution_count": null,
   "metadata": {},
   "outputs": [],
   "source": []
  },
  {
   "cell_type": "markdown",
   "metadata": {},
   "source": [
    "## Q4: \n",
    "\n",
    "What do you think the outcome will be given X = [1, 6]? Do you think SVM linear and SVM RBF will give the same results? and why?\n",
    "\n",
    "Plot the point [1, 6] on the two models."
   ]
  },
  {
   "cell_type": "code",
   "execution_count": null,
   "metadata": {},
   "outputs": [],
   "source": []
  },
  {
   "cell_type": "markdown",
   "metadata": {},
   "source": [
    "## Q5: \n",
    "\n",
    "Write the script to create SVM model using polynomial kernel (Hint: use 'poly' to specify the polynomial \n",
    "kernel).\n",
    "\n",
    "How many support vectors are there in Polynomial SVM?"
   ]
  },
  {
   "cell_type": "code",
   "execution_count": null,
   "metadata": {},
   "outputs": [],
   "source": []
  },
  {
   "cell_type": "markdown",
   "metadata": {},
   "source": [
    "## Q6: \n",
    "\n",
    "Plot and compare the decision boundary between linear, RBF, and polynomial SVMs."
   ]
  },
  {
   "cell_type": "code",
   "execution_count": null,
   "metadata": {},
   "outputs": [],
   "source": []
  },
  {
   "cell_type": "markdown",
   "metadata": {},
   "source": [
    "## Q7: \n",
    "\n",
    "What do you think will be the outcomes of X = [[0,-6], [1,6]] using polynomial SVM? and why?"
   ]
  },
  {
   "cell_type": "code",
   "execution_count": null,
   "metadata": {},
   "outputs": [],
   "source": []
  }
 ],
 "metadata": {
  "kernelspec": {
   "display_name": "Python 3",
   "language": "python",
   "name": "python3"
  },
  "language_info": {
   "codemirror_mode": {
    "name": "ipython",
    "version": 3
   },
   "file_extension": ".py",
   "mimetype": "text/x-python",
   "name": "python",
   "nbconvert_exporter": "python",
   "pygments_lexer": "ipython3",
   "version": "3.7.3"
  }
 },
 "nbformat": 4,
 "nbformat_minor": 2
}
