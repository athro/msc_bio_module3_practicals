{
 "cells": [
  {
   "cell_type": "markdown",
   "metadata": {},
   "source": [
    "# SVMs Practical 3\n",
    "In this excercise, you will use what you have learnt from exercises 1 and 2 to build an SVM model to predict positive and negative classes from real biomedical data."
   ]
  },
  {
   "cell_type": "markdown",
   "metadata": {},
   "source": [
    "## Data origin\n",
    "The data originates form the following publication:\n",
    "https://bmcbioinformatics.biomedcentral.com/articles/10.1186/s12859-016-1292-2\n",
    "(going down to section Additional files - Additional file 3 will give you the full ist of raw data)\n",
    "For the purpose of the exercise, we transformed the data already.\n",
    "Before goint into downloading the dats - some common imports"
   ]
  },
  {
   "cell_type": "code",
   "execution_count": null,
   "metadata": {},
   "outputs": [],
   "source": [
    "import os\n",
    "import sys\n",
    "import pandas as pd\n",
    "import numpy as np\n",
    "import matplotlib.pyplot as plt\n",
    "from sklearn.datasets.samples_generator import make_blobs\n",
    "from sklearn import svm # \"Support vector classifier\"\n",
    "from sklearn import datasets\n",
    "from mlxtend.plotting import plot_decision_regions\n",
    "from sklearn.model_selection import train_test_split\n",
    "from sklearn.model_selection import GridSearchCV\n",
    "from sklearn.metrics import classification_report\n",
    "from sklearn.preprocessing import LabelEncoder"
   ]
  },
  {
   "cell_type": "code",
   "execution_count": null,
   "metadata": {},
   "outputs": [],
   "source": [
    "biomarkers_file_csv = 'clinical_biomarkers.csv'\n",
    "\n",
    "\n",
    "df = pd.read_csv(biomarkers_file_csv)\n",
    "df = df.set_index(['Sample'])"
   ]
  },
  {
   "cell_type": "markdown",
   "metadata": {},
   "source": [
    "### Mapping classes into positive and negative\n",
    "The following maps alle examples either to be positive or begative. Not matching ones ( 'C.'- Control ) are deleted"
   ]
  },
  {
   "cell_type": "code",
   "execution_count": null,
   "metadata": {},
   "outputs": [],
   "source": [
    "df_ex = df.copy()\n",
    "df_ex['Response'] = df_ex['Response'].map(\n",
    "    {\n",
    "     'C.R.':'negative',\n",
    "     'C.':'negative',\n",
    "     'Int. II. R.':'negative',\n",
    "     'High R.':'negative',\n",
    "     'Int. I.':'positive',\n",
    "     'Int. II.':'positive',\n",
    "     'High':'positive',\n",
    "    })\n",
    "\n",
    "\n",
    "df_ex = df_ex.dropna()"
   ]
  },
  {
   "cell_type": "code",
   "execution_count": null,
   "metadata": {},
   "outputs": [],
   "source": [
    "#Let's look at the data\n",
    "df_ex.head()"
   ]
  },
  {
   "cell_type": "markdown",
   "metadata": {},
   "source": [
    "## Q1: \n",
    "\n",
    "Check how many data samples, and number of variables in the data set?"
   ]
  },
  {
   "cell_type": "code",
   "execution_count": null,
   "metadata": {},
   "outputs": [],
   "source": []
  },
  {
   "cell_type": "code",
   "execution_count": null,
   "metadata": {},
   "outputs": [],
   "source": [
    "df_ex = df_ex.values"
   ]
  },
  {
   "cell_type": "code",
   "execution_count": null,
   "metadata": {},
   "outputs": [],
   "source": [
    "#Prepare input and output\n",
    "X = df_ex[:, 1:33].astype(float)\n",
    "y = df_ex[:, 0]\n",
    "\n",
    "#Change categorical data into numerical data\n",
    "le = LabelEncoder()\n",
    "y = le.fit_transform(y)"
   ]
  },
  {
   "cell_type": "markdown",
   "metadata": {},
   "source": [
    "## Q2: \n",
    "\n",
    "Separate data to train and test sets. Use 20% of data for testing. Set random state = 100"
   ]
  },
  {
   "cell_type": "code",
   "execution_count": null,
   "metadata": {},
   "outputs": [],
   "source": []
  },
  {
   "cell_type": "markdown",
   "metadata": {},
   "source": [
    "## Q3: \n",
    "\n",
    "Build a linear SVM model, using gamma = 'auto'. Let's call this model1."
   ]
  },
  {
   "cell_type": "code",
   "execution_count": null,
   "metadata": {},
   "outputs": [],
   "source": []
  },
  {
   "cell_type": "markdown",
   "metadata": {},
   "source": [
    "## Q4: \n",
    "\n",
    "Perform prediction and obtain the classification report"
   ]
  },
  {
   "cell_type": "code",
   "execution_count": null,
   "metadata": {},
   "outputs": [],
   "source": []
  },
  {
   "cell_type": "markdown",
   "metadata": {},
   "source": [
    "## Q5: \n",
    "\n",
    "Build a RBF SVM model, using gamma = 'auto. Let's call this model2. \n",
    "Perform prediction and obtain the classification report."
   ]
  },
  {
   "cell_type": "code",
   "execution_count": null,
   "metadata": {},
   "outputs": [],
   "source": []
  },
  {
   "cell_type": "code",
   "execution_count": null,
   "metadata": {},
   "outputs": [],
   "source": [
    "model2 = svm.SVC(kernel = 'rbf', gamma= 'auto')\n",
    "model2.fit(X_train,y_train)\n",
    "y_true, y_pred = y_test, model2.predict(X_test)\n",
    "print(classification_report(y_true, y_pred))"
   ]
  },
  {
   "cell_type": "markdown",
   "metadata": {},
   "source": [
    "## Q6: \n",
    "\n",
    "Compare the results between model1 and model2."
   ]
  },
  {
   "cell_type": "code",
   "execution_count": null,
   "metadata": {},
   "outputs": [],
   "source": []
  },
  {
   "cell_type": "markdown",
   "metadata": {},
   "source": [
    "## Q7: \n",
    "\n",
    "Perform grid search to find the optimal C in linear SVM, and gamma and C in RBF SVM model. Use a grid search with 5-fold cross validation, score = 'f1', gamma = [1, 0.1, 0.01, 1e-3, 1e-4, 1e-5], and C = [0.1, 1, 10, 100, 1000]. "
   ]
  },
  {
   "cell_type": "code",
   "execution_count": null,
   "metadata": {},
   "outputs": [],
   "source": []
  },
  {
   "cell_type": "markdown",
   "metadata": {},
   "source": [
    "## Q8: \n",
    "\n",
    "Build the model with optimal hyperparameters. Let's call this model3. Perform prediction and obtain the classification report."
   ]
  },
  {
   "cell_type": "code",
   "execution_count": null,
   "metadata": {},
   "outputs": [],
   "source": []
  },
  {
   "cell_type": "markdown",
   "metadata": {},
   "source": [
    "Q9: Compare the results between model1, model2, and model 3."
   ]
  },
  {
   "cell_type": "code",
   "execution_count": null,
   "metadata": {},
   "outputs": [],
   "source": []
  }
 ],
 "metadata": {
  "kernelspec": {
   "display_name": "Python 3",
   "language": "python",
   "name": "python3"
  },
  "language_info": {
   "codemirror_mode": {
    "name": "ipython",
    "version": 3
   },
   "file_extension": ".py",
   "mimetype": "text/x-python",
   "name": "python",
   "nbconvert_exporter": "python",
   "pygments_lexer": "ipython3",
   "version": "3.7.3"
  }
 },
 "nbformat": 4,
 "nbformat_minor": 2
}
