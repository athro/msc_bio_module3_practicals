{
 "cells": [
  {
   "cell_type": "markdown",
   "metadata": {},
   "source": [
    "# Imports\n",
    "\n",
    "## System Imports\n",
    "\n",
    "The first import is very common in Python and for direct directory and system access\n",
    "\n",
    "## Pandas and Numpy\n",
    "\n",
    "Pandas and numpy are import commonly used in data analysis.\n",
    "Pandas provides DataFrames and Numpy numerical methods\n",
    "\n",
    "## Bioservices\n",
    "Bioservices offers ccess to a wide variety of tools to access bio informatic resourses. Details can be found here: \n",
    "\n",
    "https://bioservices.readthedocs.io/en/master/index.html\n"
   ]
  },
  {
   "cell_type": "code",
   "execution_count": null,
   "metadata": {},
   "outputs": [],
   "source": [
    "import os, os.path, sys\n",
    "import pandas as pd\n",
    "import numpy as np\n",
    "\n",
    "from bioservices import *\n"
   ]
  },
  {
   "cell_type": "markdown",
   "metadata": {},
   "source": [
    "First, create a BioMart object using the host 'www.ensembl.org'"
   ]
  },
  {
   "cell_type": "code",
   "execution_count": null,
   "metadata": {},
   "outputs": [],
   "source": [
    "bm = BioMart(host='www.ensembl.org')"
   ]
  },
  {
   "cell_type": "markdown",
   "metadata": {},
   "source": [
    "To see the avilable databases on the site use the 'database' attribute of the BioMart object.\n",
    "\n",
    "```python\n",
    "bm.databases\n",
    "```\n",
    "Output:\n",
    "\n",
    "```python\n",
    "['ensembl_mart_98',\n",
    " 'genomic_features_mart_98',\n",
    " 'mouse_mart_98',\n",
    " 'ontology_mart_98',\n",
    " 'regulation_mart_98',\n",
    " 'sequence_mart_98',\n",
    " 'snp_mart_98']\n",
    "```\n",
    " "
   ]
  },
  {
   "cell_type": "code",
   "execution_count": null,
   "metadata": {},
   "outputs": [],
   "source": [
    "bm.databases"
   ]
  },
  {
   "cell_type": "markdown",
   "metadata": {},
   "source": [
    "You can also the search function ```lookfor```, which takes one string parameter. If given the empry string ```''```, it lists all databases and information associated with it. "
   ]
  },
  {
   "cell_type": "code",
   "execution_count": null,
   "metadata": {},
   "outputs": [],
   "source": [
    "bm.lookfor()"
   ]
  },
  {
   "cell_type": "markdown",
   "metadata": {},
   "source": [
    "Now look for the mart with the mart name ```'ENSEMBL_MART_ENSEMBL'```"
   ]
  },
  {
   "cell_type": "code",
   "execution_count": null,
   "metadata": {
    "scrolled": true
   },
   "outputs": [],
   "source": [
    "\n",
    "bm.lookfor(mart_name)"
   ]
  },
  {
   "cell_type": "markdown",
   "metadata": {},
   "source": [
    "You can also list the available datasets using the ```datasets```method of BioMart. You will have to pass the mart name as paratemeter.\n",
    "\n",
    "```python\n",
    "bm.datasets(mart_name)\n",
    "```\n"
   ]
  },
  {
   "cell_type": "code",
   "execution_count": null,
   "metadata": {},
   "outputs": [],
   "source": []
  },
  {
   "cell_type": "markdown",
   "metadata": {},
   "source": [
    "To store the avilable dataset in a variable use the following command:\n",
    "\n",
    "```python\n",
    "datasets = bm.datasets(mart_name)\n",
    "```\n",
    "To filter all databases by let's say some substring, you can use a simillar approach as in the following example:\n",
    "\n",
    "```python\n",
    "some_genes = ['tec','gata1','mt-nd2']\n",
    "[x for x in some_genes if x.find('ata')>= 0]\n",
    "```\n",
    "Output:\n",
    "```python\n",
    "['gata1']\n",
    "```\n",
    "\n",
    "Please find the dataset conatining the substring ```'sapiens'```\n"
   ]
  },
  {
   "cell_type": "code",
   "execution_count": null,
   "metadata": {},
   "outputs": [],
   "source": [
    "\n",
    "\n"
   ]
  },
  {
   "cell_type": "markdown",
   "metadata": {},
   "source": [
    "To list attributes use the ```attributes```method of BioMart. You will have to pass the database as paratemeter.\n",
    "\n",
    "```python\n",
    "bm.attributes(dataset)\n",
    "```\n"
   ]
  },
  {
   "cell_type": "code",
   "execution_count": null,
   "metadata": {},
   "outputs": [],
   "source": [
    "\n"
   ]
  },
  {
   "cell_type": "markdown",
   "metadata": {},
   "source": [
    "The return value of the method is a dictinary. To access a single entry, for example ```'ensembl_gene_id'``` use the following code:\n",
    "\n",
    "```python\n",
    "bm.attributes(dataset)['ensembl_gene_id']\n",
    "```"
   ]
  },
  {
   "cell_type": "code",
   "execution_count": null,
   "metadata": {},
   "outputs": [],
   "source": []
  },
  {
   "cell_type": "markdown",
   "metadata": {},
   "source": [
    "Also filters can be accessed in teh same way. \n",
    "\n",
    "```python\n",
    "bm.filters(dataset)\n",
    "```\n"
   ]
  },
  {
   "cell_type": "code",
   "execution_count": null,
   "metadata": {},
   "outputs": [],
   "source": []
  },
  {
   "cell_type": "markdown",
   "metadata": {},
   "source": [
    "Thes are quite a number of filters. To only see the keys of the dictionary, attach ```.keys()``` at the end. \n",
    "\n",
    "```\n",
    "bm.filters(dataset).keys()\n",
    "```"
   ]
  },
  {
   "cell_type": "code",
   "execution_count": null,
   "metadata": {},
   "outputs": [],
   "source": []
  },
  {
   "cell_type": "code",
   "execution_count": null,
   "metadata": {},
   "outputs": [],
   "source": [
    "bm.filters(dataset)['chromosome_name']"
   ]
  },
  {
   "cell_type": "markdown",
   "metadata": {},
   "source": [
    "To get full access to BioMart, you should build a query. To do that you will need the ```dataset```,  some ```àttributes``` nd potentially a ```filter```\n",
    "\n",
    "Start with building the query:"
   ]
  },
  {
   "cell_type": "code",
   "execution_count": null,
   "metadata": {},
   "outputs": [],
   "source": [
    "# build a query\n",
    "\n",
    "bm.add_dataset_to_xml(dataset)"
   ]
  },
  {
   "cell_type": "markdown",
   "metadata": {},
   "source": [
    "Add attributes:"
   ]
  },
  {
   "cell_type": "code",
   "execution_count": null,
   "metadata": {},
   "outputs": [],
   "source": [
    "bm.add_attribute_to_xml('ensembl_gene_id')\n",
    "bm.add_attribute_to_xml('ensembl_transcript_id')\n",
    "bm.add_attribute_to_xml('hgnc_symbol')\n",
    "bm.add_attribute_to_xml('chromosome_name')\n",
    "bm.add_attribute_to_xml('start_position')\n",
    "bm.add_attribute_to_xml('end_position')\n",
    "\n"
   ]
  },
  {
   "cell_type": "markdown",
   "metadata": {},
   "source": [
    "Instead of copy & paste each line, you can use either a for loop or a single list (comprehension):\n",
    "\n",
    "```python\n",
    "# version using a for loop\n",
    "attributes = ['ensembl_gene_id','ensembl_transcript_id','hgnc_symbol',\n",
    "              'chromosome_name','start_position','end_position']\n",
    "for attribute in attributes:\n",
    "    bm.add_attribute_to_xml(attribute)\n",
    "    \n",
    "```\n",
    "\n",
    "or\n",
    "\n",
    "```python\n",
    "# version using list comprehension\n",
    "attributes = ['ensembl_gene_id','ensembl_transcript_id','hgnc_symbol',\n",
    "              'chromosome_name','start_position','end_position']\n",
    "[bm.add_attribute_to_xml(attribute) for attribute in attributes]\n",
    "\n",
    "```\n",
    "\n",
    "Do not execute this now, as you would add this to the already existing query!"
   ]
  },
  {
   "cell_type": "markdown",
   "metadata": {},
   "source": [
    "Add a filter:"
   ]
  },
  {
   "cell_type": "code",
   "execution_count": null,
   "metadata": {},
   "outputs": [],
   "source": [
    "# add filter\n",
    "bm.add_filter_to_xml('chromosome_name','1')"
   ]
  },
  {
   "cell_type": "markdown",
   "metadata": {},
   "source": [
    "Now, the query has to be translated into XML"
   ]
  },
  {
   "cell_type": "code",
   "execution_count": null,
   "metadata": {},
   "outputs": [],
   "source": [
    "query_xml = bm.get_xml()"
   ]
  },
  {
   "cell_type": "markdown",
   "metadata": {},
   "source": [
    "... and executed. The return value is stored in the variable ```res```"
   ]
  },
  {
   "cell_type": "code",
   "execution_count": null,
   "metadata": {},
   "outputs": [],
   "source": [
    "res = bm.query(query_xml)"
   ]
  },
  {
   "cell_type": "code",
   "execution_count": null,
   "metadata": {},
   "outputs": [],
   "source": [
    "res"
   ]
  },
  {
   "cell_type": "markdown",
   "metadata": {},
   "source": [
    "The result is in plain text. Using the internal Jupyter print function does not account for newline symbols (```\\n```). To propperly print it use the ```print```function. \n",
    "\n",
    "```python\n",
    "print(res)\n",
    "```"
   ]
  },
  {
   "cell_type": "code",
   "execution_count": null,
   "metadata": {},
   "outputs": [],
   "source": []
  },
  {
   "cell_type": "markdown",
   "metadata": {},
   "source": [
    "To better access each line, split the resulting text into individual lines:\n",
    "```python\n",
    "res.split('\\n')\n",
    "```\n"
   ]
  },
  {
   "cell_type": "code",
   "execution_count": null,
   "metadata": {},
   "outputs": [],
   "source": []
  },
  {
   "cell_type": "markdown",
   "metadata": {},
   "source": [
    "To construct a propper array of an array, you should now split each line into indvidual elements. Each line conatins a number of tab symbols (```\\t```). \n",
    "\n",
    "Use the following command to generate a propper list of lists and save it to a variable:\n",
    "\n",
    "```python\n",
    "res_data = [x.split('\\t') for x in res.split('\\n')]\n",
    "```\n"
   ]
  },
  {
   "cell_type": "code",
   "execution_count": null,
   "metadata": {},
   "outputs": [],
   "source": []
  },
  {
   "cell_type": "markdown",
   "metadata": {},
   "source": [
    "To better access the data, we now create a pandas DataFrame. We have to pass the actual data, as well as the names of the attribute names:\n",
    "\n",
    "```python\n",
    "# Create a pandas dataframe\n",
    "res_data = [x.split('\\t') for x in res.split('\\n')]\n",
    "df = pd.DataFrame(res_data,columns=attributes)\n",
    "```\n",
    "You might need the attributes as defines some blocks above. "
   ]
  },
  {
   "cell_type": "code",
   "execution_count": null,
   "metadata": {},
   "outputs": [],
   "source": [
    "\n",
    "\n",
    "\n"
   ]
  },
  {
   "cell_type": "markdown",
   "metadata": {},
   "source": [
    "The DataFrame object has a number of methods to display the content. ```head()``` displays the top of the frame (ususaly the first 5 elements). ```head(10)```displays the first 10. \n",
    "\n",
    "```python\n",
    "df.head()\n",
    "```"
   ]
  },
  {
   "cell_type": "code",
   "execution_count": null,
   "metadata": {},
   "outputs": [],
   "source": [
    "df.head()"
   ]
  },
  {
   "cell_type": "code",
   "execution_count": null,
   "metadata": {},
   "outputs": [],
   "source": [
    "df.head(10)"
   ]
  },
  {
   "cell_type": "code",
   "execution_count": null,
   "metadata": {},
   "outputs": [],
   "source": [
    "df"
   ]
  },
  {
   "cell_type": "code",
   "execution_count": null,
   "metadata": {},
   "outputs": [],
   "source": []
  }
 ],
 "metadata": {
  "kernelspec": {
   "display_name": "Python 3",
   "language": "python",
   "name": "python3"
  },
  "language_info": {
   "codemirror_mode": {
    "name": "ipython",
    "version": 3
   },
   "file_extension": ".py",
   "mimetype": "text/x-python",
   "name": "python",
   "nbconvert_exporter": "python",
   "pygments_lexer": "ipython3",
   "version": "3.7.3"
  }
 },
 "nbformat": 4,
 "nbformat_minor": 2
}
