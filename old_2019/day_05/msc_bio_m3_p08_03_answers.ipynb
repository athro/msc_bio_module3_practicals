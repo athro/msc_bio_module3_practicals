{
 "cells": [
  {
   "cell_type": "markdown",
   "metadata": {},
   "source": [
    "# Practical 3\n",
    "In this excercise, you will use what you have learnt from exercises 1 and 2 to build an SVM model to predict positive and negative classes from real biomedical data."
   ]
  },
  {
   "cell_type": "markdown",
   "metadata": {},
   "source": [
    "## Data origin\n",
    "The data originates form the following publication:\n",
    "https://bmcbioinformatics.biomedcentral.com/articles/10.1186/s12859-016-1292-2\n",
    "(going down to section Additional files - Additional file 3 will give you the full ist of raw data)\n",
    "For the purpose of the exercise, we transformed the data already.\n",
    "Before goint into downloading the dats - some common imports"
   ]
  },
  {
   "cell_type": "code",
   "execution_count": 9,
   "metadata": {},
   "outputs": [],
   "source": [
    "import os\n",
    "import sys\n",
    "import pandas as pd\n",
    "import numpy as np\n",
    "import matplotlib.pyplot as plt\n",
    "from sklearn.datasets.samples_generator import make_blobs\n",
    "from sklearn import svm # \"Support vector classifier\"\n",
    "from sklearn import datasets\n",
    "from mlxtend.plotting import plot_decision_regions\n",
    "from sklearn.model_selection import train_test_split\n",
    "from sklearn.model_selection import GridSearchCV\n",
    "from sklearn.metrics import classification_report\n",
    "from sklearn.preprocessing import LabelEncoder"
   ]
  },
  {
   "cell_type": "code",
   "execution_count": 10,
   "metadata": {},
   "outputs": [],
   "source": [
    "biomarkers_file_csv = 'clinical_biomarkers.csv'\n",
    "\n",
    "\n",
    "df = pd.read_csv(biomarkers_file_csv)\n",
    "df = df.set_index(['Sample'])"
   ]
  },
  {
   "cell_type": "markdown",
   "metadata": {},
   "source": [
    "### Mapping classes into positive and negative\n",
    "The following maps alle examples either to be positive or begative. Not matching ones ( 'C.'- Control ) are deleted"
   ]
  },
  {
   "cell_type": "code",
   "execution_count": 11,
   "metadata": {},
   "outputs": [],
   "source": [
    "df_ex = df.copy()\n",
    "df_ex['Response'] = df_ex['Response'].map(\n",
    "    {\n",
    "     'C.R.':'negative',\n",
    "     'C.':'negative',\n",
    "     'Int. II. R.':'negative',\n",
    "     'High R.':'negative',\n",
    "     'Int. I.':'positive',\n",
    "     'Int. II.':'positive',\n",
    "     'High':'positive',\n",
    "    })\n",
    "\n",
    "\n",
    "df_ex = df_ex.dropna()"
   ]
  },
  {
   "cell_type": "code",
   "execution_count": 12,
   "metadata": {},
   "outputs": [
    {
     "data": {
      "text/html": [
       "<div>\n",
       "<style scoped>\n",
       "    .dataframe tbody tr th:only-of-type {\n",
       "        vertical-align: middle;\n",
       "    }\n",
       "\n",
       "    .dataframe tbody tr th {\n",
       "        vertical-align: top;\n",
       "    }\n",
       "\n",
       "    .dataframe thead th {\n",
       "        text-align: right;\n",
       "    }\n",
       "</style>\n",
       "<table border=\"1\" class=\"dataframe\">\n",
       "  <thead>\n",
       "    <tr style=\"text-align: right;\">\n",
       "      <th></th>\n",
       "      <th>Response</th>\n",
       "      <th>Hb (g/dL)</th>\n",
       "      <th>RBC (mil/cmm)</th>\n",
       "      <th>PCV (%)</th>\n",
       "      <th>RET ABS(mil/cmm)</th>\n",
       "      <th>MCV(fL)</th>\n",
       "      <th>MCH (pg)</th>\n",
       "      <th>MCHC (g/dL)</th>\n",
       "      <th>RDW (%)</th>\n",
       "      <th>PLAT (1000/cmm)</th>\n",
       "      <th>...</th>\n",
       "      <th>IN PHOS(mmol/L)</th>\n",
       "      <th>Cl (mmol/L)</th>\n",
       "      <th>T PROT(g/L)</th>\n",
       "      <th>ALBUMIN (g/L)</th>\n",
       "      <th>TOT CHOL (mmol/L)</th>\n",
       "      <th>GLUC (mmol/L)</th>\n",
       "      <th>UREA (mmol/L)</th>\n",
       "      <th>CREAT (umol/L)</th>\n",
       "      <th>TRIGS (umol/L)</th>\n",
       "      <th>CPK (IU/L)</th>\n",
       "    </tr>\n",
       "    <tr>\n",
       "      <th>Sample</th>\n",
       "      <th></th>\n",
       "      <th></th>\n",
       "      <th></th>\n",
       "      <th></th>\n",
       "      <th></th>\n",
       "      <th></th>\n",
       "      <th></th>\n",
       "      <th></th>\n",
       "      <th></th>\n",
       "      <th></th>\n",
       "      <th></th>\n",
       "      <th></th>\n",
       "      <th></th>\n",
       "      <th></th>\n",
       "      <th></th>\n",
       "      <th></th>\n",
       "      <th></th>\n",
       "      <th></th>\n",
       "      <th></th>\n",
       "      <th></th>\n",
       "      <th></th>\n",
       "    </tr>\n",
       "  </thead>\n",
       "  <tbody>\n",
       "    <tr>\n",
       "      <th>1</th>\n",
       "      <td>negative</td>\n",
       "      <td>0.092087</td>\n",
       "      <td>-0.933507</td>\n",
       "      <td>0.677989</td>\n",
       "      <td>1.571541</td>\n",
       "      <td>2.096461</td>\n",
       "      <td>1.518853</td>\n",
       "      <td>-1.198476</td>\n",
       "      <td>-0.248941</td>\n",
       "      <td>-2.229991</td>\n",
       "      <td>...</td>\n",
       "      <td>0.983719</td>\n",
       "      <td>-0.351491</td>\n",
       "      <td>-0.107674</td>\n",
       "      <td>-0.739030</td>\n",
       "      <td>1.107545</td>\n",
       "      <td>-2.501174</td>\n",
       "      <td>-0.185471</td>\n",
       "      <td>1.296293</td>\n",
       "      <td>-1.184046</td>\n",
       "      <td>1.092656</td>\n",
       "    </tr>\n",
       "    <tr>\n",
       "      <th>2</th>\n",
       "      <td>negative</td>\n",
       "      <td>0.255541</td>\n",
       "      <td>0.283637</td>\n",
       "      <td>-0.277325</td>\n",
       "      <td>-1.259227</td>\n",
       "      <td>-0.722841</td>\n",
       "      <td>-0.078755</td>\n",
       "      <td>1.080769</td>\n",
       "      <td>-1.174322</td>\n",
       "      <td>0.298847</td>\n",
       "      <td>...</td>\n",
       "      <td>0.058632</td>\n",
       "      <td>-0.351491</td>\n",
       "      <td>-0.847498</td>\n",
       "      <td>-0.984223</td>\n",
       "      <td>-0.784035</td>\n",
       "      <td>-1.150730</td>\n",
       "      <td>1.162481</td>\n",
       "      <td>1.862673</td>\n",
       "      <td>-1.363805</td>\n",
       "      <td>0.833558</td>\n",
       "    </tr>\n",
       "    <tr>\n",
       "      <th>3</th>\n",
       "      <td>negative</td>\n",
       "      <td>-0.234821</td>\n",
       "      <td>0.477273</td>\n",
       "      <td>-0.595763</td>\n",
       "      <td>-0.079740</td>\n",
       "      <td>-1.349353</td>\n",
       "      <td>-1.037321</td>\n",
       "      <td>0.776869</td>\n",
       "      <td>-0.526555</td>\n",
       "      <td>-0.778059</td>\n",
       "      <td>...</td>\n",
       "      <td>-0.403911</td>\n",
       "      <td>-1.044711</td>\n",
       "      <td>-0.600890</td>\n",
       "      <td>-1.229415</td>\n",
       "      <td>0.296868</td>\n",
       "      <td>-1.247191</td>\n",
       "      <td>2.095679</td>\n",
       "      <td>0.163532</td>\n",
       "      <td>-1.044234</td>\n",
       "      <td>-0.696923</td>\n",
       "    </tr>\n",
       "    <tr>\n",
       "      <th>4</th>\n",
       "      <td>negative</td>\n",
       "      <td>1.072810</td>\n",
       "      <td>1.058183</td>\n",
       "      <td>1.367938</td>\n",
       "      <td>-0.551535</td>\n",
       "      <td>0.269135</td>\n",
       "      <td>-0.238516</td>\n",
       "      <td>-0.742627</td>\n",
       "      <td>-1.544475</td>\n",
       "      <td>-0.210361</td>\n",
       "      <td>...</td>\n",
       "      <td>-0.866454</td>\n",
       "      <td>1.034947</td>\n",
       "      <td>-0.354282</td>\n",
       "      <td>-0.739030</td>\n",
       "      <td>1.647997</td>\n",
       "      <td>-0.186128</td>\n",
       "      <td>0.021906</td>\n",
       "      <td>-1.818798</td>\n",
       "      <td>-0.724662</td>\n",
       "      <td>-0.353469</td>\n",
       "    </tr>\n",
       "    <tr>\n",
       "      <th>5</th>\n",
       "      <td>negative</td>\n",
       "      <td>2.543896</td>\n",
       "      <td>1.611430</td>\n",
       "      <td>1.686377</td>\n",
       "      <td>-1.023329</td>\n",
       "      <td>-0.096330</td>\n",
       "      <td>0.720049</td>\n",
       "      <td>1.384668</td>\n",
       "      <td>-1.359399</td>\n",
       "      <td>-1.053307</td>\n",
       "      <td>...</td>\n",
       "      <td>-0.866454</td>\n",
       "      <td>0.341728</td>\n",
       "      <td>-0.107674</td>\n",
       "      <td>-0.493838</td>\n",
       "      <td>0.026642</td>\n",
       "      <td>-1.633032</td>\n",
       "      <td>1.473547</td>\n",
       "      <td>1.579483</td>\n",
       "      <td>-0.385117</td>\n",
       "      <td>-0.106423</td>\n",
       "    </tr>\n",
       "  </tbody>\n",
       "</table>\n",
       "<p>5 rows × 34 columns</p>\n",
       "</div>"
      ],
      "text/plain": [
       "        Response  Hb (g/dL)  RBC (mil/cmm)   PCV (%)  RET ABS(mil/cmm)  \\\n",
       "Sample                                                                   \n",
       "1       negative   0.092087      -0.933507  0.677989          1.571541   \n",
       "2       negative   0.255541       0.283637 -0.277325         -1.259227   \n",
       "3       negative  -0.234821       0.477273 -0.595763         -0.079740   \n",
       "4       negative   1.072810       1.058183  1.367938         -0.551535   \n",
       "5       negative   2.543896       1.611430  1.686377         -1.023329   \n",
       "\n",
       "         MCV(fL)  MCH (pg)  MCHC (g/dL)   RDW (%)  PLAT (1000/cmm)  ...  \\\n",
       "Sample                                                              ...   \n",
       "1       2.096461  1.518853    -1.198476 -0.248941        -2.229991  ...   \n",
       "2      -0.722841 -0.078755     1.080769 -1.174322         0.298847  ...   \n",
       "3      -1.349353 -1.037321     0.776869 -0.526555        -0.778059  ...   \n",
       "4       0.269135 -0.238516    -0.742627 -1.544475        -0.210361  ...   \n",
       "5      -0.096330  0.720049     1.384668 -1.359399        -1.053307  ...   \n",
       "\n",
       "        IN PHOS(mmol/L)  Cl (mmol/L)  T PROT(g/L)  ALBUMIN (g/L)  \\\n",
       "Sample                                                             \n",
       "1              0.983719    -0.351491    -0.107674      -0.739030   \n",
       "2              0.058632    -0.351491    -0.847498      -0.984223   \n",
       "3             -0.403911    -1.044711    -0.600890      -1.229415   \n",
       "4             -0.866454     1.034947    -0.354282      -0.739030   \n",
       "5             -0.866454     0.341728    -0.107674      -0.493838   \n",
       "\n",
       "        TOT CHOL (mmol/L)  GLUC (mmol/L)  UREA (mmol/L)  CREAT (umol/L)  \\\n",
       "Sample                                                                    \n",
       "1                1.107545      -2.501174      -0.185471        1.296293   \n",
       "2               -0.784035      -1.150730       1.162481        1.862673   \n",
       "3                0.296868      -1.247191       2.095679        0.163532   \n",
       "4                1.647997      -0.186128       0.021906       -1.818798   \n",
       "5                0.026642      -1.633032       1.473547        1.579483   \n",
       "\n",
       "        TRIGS (umol/L)  CPK (IU/L)  \n",
       "Sample                              \n",
       "1            -1.184046    1.092656  \n",
       "2            -1.363805    0.833558  \n",
       "3            -1.044234   -0.696923  \n",
       "4            -0.724662   -0.353469  \n",
       "5            -0.385117   -0.106423  \n",
       "\n",
       "[5 rows x 34 columns]"
      ]
     },
     "execution_count": 12,
     "metadata": {},
     "output_type": "execute_result"
    }
   ],
   "source": [
    "#Let's look at the data\n",
    "df_ex.head()"
   ]
  },
  {
   "cell_type": "markdown",
   "metadata": {},
   "source": [
    "Q1: Check how many data samples, and number of variables in the data set?"
   ]
  },
  {
   "cell_type": "code",
   "execution_count": 13,
   "metadata": {},
   "outputs": [
    {
     "data": {
      "text/plain": [
       "count           61\n",
       "unique           2\n",
       "top       positive\n",
       "freq            32\n",
       "Name: Response, dtype: object"
      ]
     },
     "execution_count": 13,
     "metadata": {},
     "output_type": "execute_result"
    }
   ],
   "source": [
    "df_ex.shape\n",
    "df_ex.Response.describe()"
   ]
  },
  {
   "cell_type": "code",
   "execution_count": 14,
   "metadata": {},
   "outputs": [],
   "source": [
    "df_ex = df_ex.values"
   ]
  },
  {
   "cell_type": "code",
   "execution_count": 15,
   "metadata": {},
   "outputs": [],
   "source": [
    "#Prepare input and output\n",
    "X = df_ex[:, 1:33].astype(float)\n",
    "y = df_ex[:, 0]\n",
    "\n",
    "#Change categorical data into numerical data\n",
    "le = LabelEncoder()\n",
    "y = le.fit_transform(y)"
   ]
  },
  {
   "cell_type": "code",
   "execution_count": null,
   "metadata": {},
   "outputs": [],
   "source": [
    "Q2: Separate data to train and test sets. Use 20% of data for testing. Set random state = 100"
   ]
  },
  {
   "cell_type": "code",
   "execution_count": 16,
   "metadata": {},
   "outputs": [],
   "source": [
    "X_train, X_test, y_train, y_test = train_test_split(X, y, test_size=0.2, random_state=100)"
   ]
  },
  {
   "cell_type": "code",
   "execution_count": 17,
   "metadata": {},
   "outputs": [
    {
     "data": {
      "text/plain": [
       "(48, 32)"
      ]
     },
     "execution_count": 17,
     "metadata": {},
     "output_type": "execute_result"
    }
   ],
   "source": [
    "X_train.shape"
   ]
  },
  {
   "cell_type": "code",
   "execution_count": 18,
   "metadata": {},
   "outputs": [
    {
     "data": {
      "text/plain": [
       "array([0, 1, 1, 1, 1, 0, 0, 0, 0, 1, 1, 0, 1])"
      ]
     },
     "execution_count": 18,
     "metadata": {},
     "output_type": "execute_result"
    }
   ],
   "source": [
    "y_test"
   ]
  },
  {
   "cell_type": "markdown",
   "metadata": {},
   "source": [
    "Q3: Build a linear SVM model, using gamma = 'auto'. Let's call this model1."
   ]
  },
  {
   "cell_type": "code",
   "execution_count": 19,
   "metadata": {},
   "outputs": [
    {
     "data": {
      "text/plain": [
       "SVC(C=1.0, cache_size=200, class_weight=None, coef0=0.0,\n",
       "    decision_function_shape='ovr', degree=3, gamma='auto', kernel='linear',\n",
       "    max_iter=-1, probability=False, random_state=None, shrinking=True,\n",
       "    tol=0.001, verbose=False)"
      ]
     },
     "execution_count": 19,
     "metadata": {},
     "output_type": "execute_result"
    }
   ],
   "source": [
    "model1 = svm.SVC(kernel = 'linear', gamma= 'auto')\n",
    "model1.fit(X_train,y_train)"
   ]
  },
  {
   "cell_type": "markdown",
   "metadata": {},
   "source": [
    "Q4: Perform prediction and obtain the classification report"
   ]
  },
  {
   "cell_type": "code",
   "execution_count": 20,
   "metadata": {},
   "outputs": [
    {
     "name": "stdout",
     "output_type": "stream",
     "text": [
      "              precision    recall  f1-score   support\n",
      "\n",
      "           0       0.50      0.50      0.50         6\n",
      "           1       0.57      0.57      0.57         7\n",
      "\n",
      "    accuracy                           0.54        13\n",
      "   macro avg       0.54      0.54      0.54        13\n",
      "weighted avg       0.54      0.54      0.54        13\n",
      "\n"
     ]
    }
   ],
   "source": [
    "#Perform prediction\n",
    "y_true, y_pred = y_test, model1.predict(X_test)\n",
    "print(classification_report(y_true, y_pred))"
   ]
  },
  {
   "cell_type": "markdown",
   "metadata": {},
   "source": [
    "Q5: Build a RBF SVM model, using gamma = 'auto. Let's call this model2. \n",
    "Perform prediction and obtain the classification report."
   ]
  },
  {
   "cell_type": "code",
   "execution_count": null,
   "metadata": {},
   "outputs": [],
   "source": []
  },
  {
   "cell_type": "code",
   "execution_count": 21,
   "metadata": {},
   "outputs": [
    {
     "name": "stdout",
     "output_type": "stream",
     "text": [
      "              precision    recall  f1-score   support\n",
      "\n",
      "           0       1.00      0.67      0.80         6\n",
      "           1       0.78      1.00      0.88         7\n",
      "\n",
      "    accuracy                           0.85        13\n",
      "   macro avg       0.89      0.83      0.84        13\n",
      "weighted avg       0.88      0.85      0.84        13\n",
      "\n"
     ]
    }
   ],
   "source": [
    "model2 = svm.SVC(kernel = 'rbf', gamma= 'auto')\n",
    "model2.fit(X_train,y_train)\n",
    "y_true, y_pred = y_test, model2.predict(X_test)\n",
    "print(classification_report(y_true, y_pred))"
   ]
  },
  {
   "cell_type": "markdown",
   "metadata": {},
   "source": [
    "Q6: Compare the results between model1 and model2."
   ]
  },
  {
   "cell_type": "markdown",
   "metadata": {},
   "source": [
    "Q7: Perform grid search to find the optimal C in linear SVM, and gamma and C in RBF SVM model. Use a grid search with 5-fold cross validation, score = 'f1', gamma = [1, 0.1, 0.01, 1e-3, 1e-4, 1e-5], and C = [0.1, 1, 10, 100, 1000]. "
   ]
  },
  {
   "cell_type": "code",
   "execution_count": 22,
   "metadata": {},
   "outputs": [
    {
     "name": "stdout",
     "output_type": "stream",
     "text": [
      "# Tuning hyper-parameters for f1\n",
      "\n",
      "Best parameters set found on development set:\n",
      "\n",
      "{'C': 1, 'gamma': 0.01, 'kernel': 'rbf'}\n",
      "\n",
      "Grid scores on development set:\n",
      "\n",
      "0.685 (+/-0.046) for {'C': 1, 'gamma': 1, 'kernel': 'rbf'}\n",
      "0.768 (+/-0.136) for {'C': 1, 'gamma': 0.1, 'kernel': 'rbf'}\n",
      "0.782 (+/-0.121) for {'C': 1, 'gamma': 0.01, 'kernel': 'rbf'}\n",
      "0.695 (+/-0.080) for {'C': 1, 'gamma': 0.001, 'kernel': 'rbf'}\n",
      "0.685 (+/-0.046) for {'C': 1, 'gamma': 0.0001, 'kernel': 'rbf'}\n",
      "0.685 (+/-0.046) for {'C': 1, 'gamma': 1e-05, 'kernel': 'rbf'}\n",
      "0.685 (+/-0.046) for {'C': 10, 'gamma': 1, 'kernel': 'rbf'}\n",
      "0.708 (+/-0.126) for {'C': 10, 'gamma': 0.1, 'kernel': 'rbf'}\n",
      "0.664 (+/-0.133) for {'C': 10, 'gamma': 0.01, 'kernel': 'rbf'}\n",
      "0.734 (+/-0.128) for {'C': 10, 'gamma': 0.001, 'kernel': 'rbf'}\n",
      "0.695 (+/-0.080) for {'C': 10, 'gamma': 0.0001, 'kernel': 'rbf'}\n",
      "0.685 (+/-0.046) for {'C': 10, 'gamma': 1e-05, 'kernel': 'rbf'}\n",
      "0.685 (+/-0.046) for {'C': 100, 'gamma': 1, 'kernel': 'rbf'}\n",
      "0.708 (+/-0.126) for {'C': 100, 'gamma': 0.1, 'kernel': 'rbf'}\n",
      "0.664 (+/-0.133) for {'C': 100, 'gamma': 0.01, 'kernel': 'rbf'}\n",
      "0.626 (+/-0.125) for {'C': 100, 'gamma': 0.001, 'kernel': 'rbf'}\n",
      "0.734 (+/-0.128) for {'C': 100, 'gamma': 0.0001, 'kernel': 'rbf'}\n",
      "0.695 (+/-0.080) for {'C': 100, 'gamma': 1e-05, 'kernel': 'rbf'}\n",
      "0.685 (+/-0.046) for {'C': 1000, 'gamma': 1, 'kernel': 'rbf'}\n",
      "0.708 (+/-0.126) for {'C': 1000, 'gamma': 0.1, 'kernel': 'rbf'}\n",
      "0.664 (+/-0.133) for {'C': 1000, 'gamma': 0.01, 'kernel': 'rbf'}\n",
      "0.516 (+/-0.369) for {'C': 1000, 'gamma': 0.001, 'kernel': 'rbf'}\n",
      "0.606 (+/-0.123) for {'C': 1000, 'gamma': 0.0001, 'kernel': 'rbf'}\n",
      "0.734 (+/-0.128) for {'C': 1000, 'gamma': 1e-05, 'kernel': 'rbf'}\n",
      "0.635 (+/-0.137) for {'C': 0.1, 'kernel': 'linear'}\n",
      "0.516 (+/-0.369) for {'C': 1, 'kernel': 'linear'}\n",
      "0.516 (+/-0.369) for {'C': 10, 'kernel': 'linear'}\n",
      "0.516 (+/-0.369) for {'C': 100, 'kernel': 'linear'}\n",
      "0.516 (+/-0.369) for {'C': 1000, 'kernel': 'linear'}\n",
      "\n"
     ]
    },
    {
     "name": "stderr",
     "output_type": "stream",
     "text": [
      "/Users/laura/anaconda3/lib/python3.6/site-packages/sklearn/model_selection/_search.py:813: DeprecationWarning: The default of the `iid` parameter will change from True to False in version 0.22 and will be removed in 0.24. This will change numeric results when test-set sizes are unequal.\n",
      "  DeprecationWarning)\n"
     ]
    }
   ],
   "source": [
    "# Set the parameters by cross-validation\n",
    "tuned_parameters = [{'kernel': ['rbf'], 'gamma': [1, 0.1, 0.01, 1e-3, 1e-4, 1e-5],\n",
    "                     'C': [1, 10, 100, 1000]},\n",
    "                    {'kernel': ['linear'], 'C': [0.1, 1, 10, 100, 1000]}]\n",
    "\n",
    "# Specify the evaluation metric we will use to select our hyper parameters. In this example, we will use auc.\n",
    "scores = ['f1']\n",
    "\n",
    "for score in scores:\n",
    "    print(\"# Tuning hyper-parameters for %s\" % score)\n",
    "    print()\n",
    "\n",
    "    clf = GridSearchCV(svm.SVC(), tuned_parameters, cv=5,\n",
    "                       scoring=score)\n",
    "    clf.fit(X_train, y_train)\n",
    "\n",
    "    print(\"Best parameters set found on development set:\")\n",
    "    print()\n",
    "    print(clf.best_params_)\n",
    "    print()\n",
    "    print(\"Grid scores on development set:\")\n",
    "    print()\n",
    "    means = clf.cv_results_['mean_test_score']\n",
    "    stds = clf.cv_results_['std_test_score']\n",
    "    for mean, std, params in zip(means, stds, clf.cv_results_['params']):\n",
    "        print(\"%0.3f (+/-%0.03f) for %r\"\n",
    "              % (mean, std * 2, params))\n",
    "    print()"
   ]
  },
  {
   "cell_type": "markdown",
   "metadata": {},
   "source": [
    "Q8: Build the model with optimal hyperparameters. Let's call this model3. Perform prediction and obtain the classification report."
   ]
  },
  {
   "cell_type": "code",
   "execution_count": 23,
   "metadata": {},
   "outputs": [
    {
     "name": "stdout",
     "output_type": "stream",
     "text": [
      "              precision    recall  f1-score   support\n",
      "\n",
      "           0       1.00      0.50      0.67         6\n",
      "           1       0.70      1.00      0.82         7\n",
      "\n",
      "    accuracy                           0.77        13\n",
      "   macro avg       0.85      0.75      0.75        13\n",
      "weighted avg       0.84      0.77      0.75        13\n",
      "\n"
     ]
    }
   ],
   "source": [
    "model3 = svm.SVC(kernel = 'rbf', gamma = 0.01, C = 1)\n",
    "model3.fit(X_train, y_train)\n",
    "y_true, y_pred = y_test, model3.predict(X_test)\n",
    "print(classification_report(y_true, y_pred))"
   ]
  },
  {
   "cell_type": "markdown",
   "metadata": {},
   "source": [
    "Q9: Compare the results between model1, model2, and model 3."
   ]
  }
 ],
 "metadata": {
  "kernelspec": {
   "display_name": "Python 3",
   "language": "python",
   "name": "python3"
  },
  "language_info": {
   "codemirror_mode": {
    "name": "ipython",
    "version": 3
   },
   "file_extension": ".py",
   "mimetype": "text/x-python",
   "name": "python",
   "nbconvert_exporter": "python",
   "pygments_lexer": "ipython3",
   "version": "3.6.8"
  }
 },
 "nbformat": 4,
 "nbformat_minor": 2
}
