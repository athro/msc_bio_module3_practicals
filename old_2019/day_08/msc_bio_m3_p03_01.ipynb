{
 "cells": [
  {
   "cell_type": "markdown",
   "metadata": {},
   "source": [
    "# Ontology Practical \n",
    "\n",
    "Now we will learn about HPO and semantic similarity.\n",
    "\n",
    "To run this, you must run this on the command line:\n",
    "\n",
    "```console\n",
    "pip3 install --user pyhpo sklearn scikit-plot matplotlib\n",
    "```\n",
    "\n",
    "You may have to restart the notebook after you install the things.\n",
    "\n",
    "Note: ... indicates something you need to fill out yourself. You should be able to find the necessary code earlier in the notebook. Ask if you're having any trouble, or don't understand anything!"
   ]
  },
  {
   "cell_type": "code",
   "execution_count": null,
   "metadata": {},
   "outputs": [],
   "source": [
    "!pip3 install --user pyhpo sklearn scikit-plot matplotlib"
   ]
  },
  {
   "cell_type": "markdown",
   "metadata": {},
   "source": [
    "Import the necessary files and load the ontology"
   ]
  },
  {
   "cell_type": "code",
   "execution_count": null,
   "metadata": {},
   "outputs": [],
   "source": [
    "from pyhpo.ontology import Ontology\n",
    "from pyhpo.set import HPOSet\n",
    "import csv\n",
    "import sklearn\n",
    "import sklearn.metrics\n",
    "import scikitplot as skplt\n",
    "import matplotlib.pyplot as plt\n",
    "\n",
    "ontology = Ontology()"
   ]
  },
  {
   "cell_type": "markdown",
   "metadata": {},
   "source": [
    "We can find and select phenotypes in several different ways\n",
    "\n",
    "You can use the following box to search for abnormalities, then copy them into the subsequent boxes when required:"
   ]
  },
  {
   "cell_type": "code",
   "execution_count": null,
   "metadata": {
    "scrolled": false
   },
   "outputs": [],
   "source": [
    "for term in ontology.search('kidney'):\n",
    "    print(term)"
   ]
  },
  {
   "cell_type": "markdown",
   "metadata": {},
   "source": [
    "We can use semantic similarity to see how close two terms are. We would expect that two terms that have nothing to do with each other are dissimilar:"
   ]
  },
  {
   "cell_type": "code",
   "execution_count": null,
   "metadata": {},
   "outputs": [],
   "source": [
    "term = ontology.get_hpo_object('Abnormality of mandibular symphysis')\n",
    "term2 = ontology.get_hpo_object(. . .)\n",
    "\n",
    "print(term)\n",
    "print(term2)\n",
    "\n",
    "term.similarity_score(term2, method = 'resnik')"
   ]
  },
  {
   "cell_type": "markdown",
   "metadata": {},
   "source": [
    "Can you think of a phenotype that is related to tachycardia? Think about what might influence class similarity."
   ]
  },
  {
   "cell_type": "code",
   "execution_count": null,
   "metadata": {},
   "outputs": [],
   "source": [
    "terms = [\n",
    "    ontology.get_hpo_object('Tachycardia'),\n",
    "    ontology.get_hpo_object(. . .)\n",
    "]\n",
    "\n",
    "terms[0].similarity_score(terms[1], method = 'resnik')"
   ]
  },
  {
   "cell_type": "markdown",
   "metadata": {},
   "source": [
    "Can you think of two other phenotypes that are similar? find them using the methods above, and enter them in here:"
   ]
  },
  {
   "cell_type": "code",
   "execution_count": null,
   "metadata": {},
   "outputs": [],
   "source": [
    "terms = [\n",
    "    ontology.get_hpo_object(. . .),\n",
    "    ontology.get_hpo_object(. . .)\n",
    "]\n",
    "\n",
    "terms[0].similarity_score(terms[1], method = 'resnik')"
   ]
  },
  {
   "cell_type": "markdown",
   "metadata": {},
   "source": [
    "We can also identify the similarity between different gruops of phenotypes!. now we can create two patients, by adding a list of phenotypes. select some phenotypes usign the methods above to create the patients, then compare them:"
   ]
  },
  {
   "cell_type": "code",
   "execution_count": null,
   "metadata": {},
   "outputs": [],
   "source": [
    "patient = pyhpo.HPOSet([\n",
    "    ...\n",
    "])\n",
    "\n",
    "patient2 = pyhpo.HPSet([\n",
    "    ...\n",
    "])\n",
    "\n",
    "patient.similarity(patient2)"
   ]
  },
  {
   "cell_type": "markdown",
   "metadata": {},
   "source": [
    "In the file patients.tsv, we have phenotype characterisations of 100 (simulated) patients with diseases described by OMIM. we can load this and the OMIM database into memory:"
   ]
  },
  {
   "cell_type": "code",
   "execution_count": null,
   "metadata": {},
   "outputs": [],
   "source": [
    "patients = dict()\n",
    "omim = dict()\n",
    "diagnosis = dict()\n",
    "omim_names = dict()\n",
    "\n",
    "with open('patients.tsv') as tsv:\n",
    "    reader = csv.reader(tsv, delimiter = '\\t')\n",
    "    for row in reader:\n",
    "        key = 'patient ' + row[0]\n",
    "        if not key in patients.keys():\n",
    "            patients[key] = []\n",
    "            diagnosis[key] = row[2]\n",
    "        patients[key].append(row[1])\n",
    "        \n",
    "with open('new_phenotype_annotation.tab') as tsv:\n",
    "    reader = csv.reader(tsv, delimiter = '\\t')\n",
    "    for row in reader:\n",
    "        key = row[2]\n",
    "        if not key in omim.keys():\n",
    "            omim[key] = []\n",
    "        if not row[2] in omim_names.keys():\n",
    "            omim_names[row[2]] = row[0]\n",
    "        omim[key].append(row[1])"
   ]
  },
  {
   "cell_type": "markdown",
   "metadata": {},
   "source": [
    "Now we can look at some patients, and see what phenotypes they've been characterised with:"
   ]
  },
  {
   "cell_type": "code",
   "execution_count": null,
   "metadata": {},
   "outputs": [],
   "source": [
    "patient_id = 'patient 20'\n",
    "patient = patients[patient_id]\n",
    "\n",
    "patient"
   ]
  },
  {
   "cell_type": "markdown",
   "metadata": {},
   "source": [
    "And we can look at some diseases:"
   ]
  },
  {
   "cell_type": "code",
   "execution_count": null,
   "metadata": {},
   "outputs": [],
   "source": [
    "disease_id = 'OMIM:156620'\n",
    "disease = omim[disease_id]\n",
    "\n",
    "print(omim_names[disease_id])\n",
    "disease"
   ]
  },
  {
   "cell_type": "markdown",
   "metadata": {},
   "source": [
    "And we can look up what those phenotypes are in HPO ..."
   ]
  },
  {
   "cell_type": "code",
   "execution_count": null,
   "metadata": {},
   "outputs": [],
   "source": [
    "print('patient: ')\n",
    "for phenotype in patient:\n",
    "    hpo = ...\n",
    "    print('  ' + str(hpo))\n",
    "    \n",
    "print('disease: ')\n",
    "for phenotype in disease:\n",
    "    hpo = ...\n",
    "    print('  ' + str(hpo))"
   ]
  },
  {
   "cell_type": "markdown",
   "metadata": {},
   "source": [
    "So it follows that we should be able to diagnosie the patient, by identifying which diseases have all the phenotypes that the patients have. The following function will find diseases that have a particular phenotype:"
   ]
  },
  {
   "cell_type": "code",
   "execution_count": null,
   "metadata": {},
   "outputs": [],
   "source": [
    "def diseasesWithPhenotype(phenotype):\n",
    "    return [key  for (key, value) in omim.items() if phenotype in value]"
   ]
  },
  {
   "cell_type": "markdown",
   "metadata": {},
   "source": [
    "So let's see which diseases cause hypertension. Note that we can use omim_names[disease] to look up the name of a disease."
   ]
  },
  {
   "cell_type": "code",
   "execution_count": null,
   "metadata": {},
   "outputs": [],
   "source": [
    "hypertension = ontology.get_hpo_object('Hypertension').id\n",
    "for disease in diseasesWithPhenotype(hypertension):\n",
    "    print(omim_names[disease])"
   ]
  },
  {
   "cell_type": "markdown",
   "metadata": {},
   "source": [
    "So, for our patient, can we figure out what disease they have, by finding the only disease that contains all the phenotypes?"
   ]
  },
  {
   "cell_type": "code",
   "execution_count": null,
   "metadata": {},
   "outputs": [],
   "source": [
    "patient"
   ]
  },
  {
   "cell_type": "markdown",
   "metadata": {},
   "source": [
    "Lets start by finding all the diseases that each phenotype can have. Fill in the following:"
   ]
  },
  {
   "cell_type": "code",
   "execution_count": null,
   "metadata": {},
   "outputs": [],
   "source": [
    "diseases_with_phenotypes = [\n",
    "    set(diseasesWithPhenotype(. . .)),\n",
    "    . . .\n",
    "]"
   ]
  },
  {
   "cell_type": "markdown",
   "metadata": {},
   "source": [
    "Now we can find diseases that have all those phenotypes:"
   ]
  },
  {
   "cell_type": "code",
   "execution_count": null,
   "metadata": {},
   "outputs": [],
   "source": [
    "set.intersection(diseases_with_phenotypes[0], \n",
    "                 diseases_with_phenotypes[1], \n",
    "                 diseases_with_phenotypes[2], \n",
    "                 diseases_with_phenotypes[3],\n",
    "                 diseases_with_phenotypes[4])"
   ]
  },
  {
   "cell_type": "markdown",
   "metadata": {},
   "source": [
    "Sadly, it returns nothing. :(. This is because none of the diseases contain all those phenotypes. What could the problem be? Well, lets look at what the patient actually had:"
   ]
  },
  {
   "cell_type": "code",
   "execution_count": null,
   "metadata": {},
   "outputs": [],
   "source": [
    "patient_diagnosis = diagnosis[patient_id]\n",
    "print(omim_names[patient_diagnosis])\n",
    "disease_phenotypes = omim[patient_diagnosis]\n",
    "disease_phenotypes"
   ]
  },
  {
   "cell_type": "markdown",
   "metadata": {},
   "source": [
    "The first thing you might notice, is that there are quite a lot more phenotypes in the definition of the disease than there are in the patient characterisation.\n",
    "\n",
    "Why might this be?"
   ]
  },
  {
   "cell_type": "markdown",
   "metadata": {},
   "source": [
    "Now, let's look at which of our patient's phenotypes are in the disease definition:"
   ]
  },
  {
   "cell_type": "code",
   "execution_count": null,
   "metadata": {},
   "outputs": [],
   "source": [
    "print(patient[0] in disease_phenotypes)\n",
    "print(patient[1] in disease_phenotypes)\n",
    "print(patient[2] in disease_phenotypes)\n",
    "print(patient[3] in disease_phenotypes)\n",
    "print(patient[4] in disease_phenotypes)"
   ]
  },
  {
   "cell_type": "markdown",
   "metadata": {},
   "source": [
    "So, you should have discovered that two phenotypes were not included in the disease definition. Why could this be?\n",
    "\n",
    "Let's look at the semantic similarity between the two phenotypes not included in the disease, and the phenotypes in the disease definition. See if you can enter the function that calculates the similarity score:"
   ]
  },
  {
   "cell_type": "code",
   "execution_count": null,
   "metadata": {},
   "outputs": [],
   "source": [
    "missing_phenotype_one = ontology.get_hpo_object(patient[2])\n",
    "missing_phenotype_two = ontology.get_hpo_object(patient[4])\n",
    "\n",
    "print(missing_phenotype_one)\n",
    "for phenotype in disease_phenotypes:\n",
    "    phenotype = ontology.get_hpo_object(phenotype)\n",
    "    score = ...\n",
    "    print('  Semantic similarity score with ' + phenotype.name + ': ' + str(score))\n",
    "\n",
    "print(missing_phenotype_two)\n",
    "for phenotype in disease_phenotypes:\n",
    "    phenotype = ontology.get_hpo_object(phenotype)\n",
    "    score = ...\n",
    "    print('  Semantic similarity score with ' + phenotype.name + ': ' + str(score))\n"
   ]
  },
  {
   "cell_type": "markdown",
   "metadata": {},
   "source": [
    "We notice that most of the classes are very dissimilar, but for each of the phenotypes, there is a very similar class in the definition of the disease. \n",
    "\n",
    "let's look at the shortest path to that class in the ontology. the first one i have put in there, the second one you can fill yourself"
   ]
  },
  {
   "cell_type": "code",
   "execution_count": null,
   "metadata": {},
   "outputs": [],
   "source": [
    "missing_phenotype_one.path_to_other(ontology.get_hpo_object('Basal ganglia calcification'))"
   ]
  },
  {
   "cell_type": "code",
   "execution_count": null,
   "metadata": {},
   "outputs": [],
   "source": [
    "missing_phenotype_two.path_to_other(...)"
   ]
  },
  {
   "cell_type": "markdown",
   "metadata": {},
   "source": [
    "So we can see that our missing terms are just more general terms than the ones defined by OMIM. The above shows the path between the two classes. In both cases, it's only \n",
    "\n",
    "This makes sense - many patients will not have access to specialists, or the equipment or instruments to make very specific phenotypic profiles of patients.\n",
    "\n",
    "So the two kinds of phenotyping error we've seen are:\n",
    "\n",
    "1) Omission\n",
    "2) Generality\n",
    "\n",
    "Another kind of error that we haven't seen here (though it exists in this database) is *irrelevant* phenotypes. That is, the recording of a phenotype that a patient does have, but isn't relevant to that particular diagnosis. For example, a patient might have hypertension, but it is not relevant to their diagnosis of a brain injury.\n",
    "\n",
    "This means that we can't just match patients with the disease profile.\n",
    "\n",
    "So, can we use semantic similarity to automatically infer what disease a patient has?\n",
    "\n",
    "You might remember that we're also able to look at semantic similarity between a set of terms. So, let's look at the groupwise semantic similarity between the patient and the disease profile:"
   ]
  },
  {
   "cell_type": "code",
   "execution_count": null,
   "metadata": {},
   "outputs": [],
   "source": [
    "patient_hpos = HPOSet(list(map(ontology.get_hpo_object, patient)))\n",
    "disease_hpos = HPOSet(list(map(ontology.get_hpo_object, disease_phenotypes)))\n",
    "\n",
    "patient_hpos.similarity(disease_hpos)"
   ]
  },
  {
   "cell_type": "markdown",
   "metadata": {},
   "source": [
    "So, there is some similarity, but without context it doesn't really mean anything. lets try comparing it with every disease in OMIM:"
   ]
  },
  {
   "cell_type": "code",
   "execution_count": null,
   "metadata": {},
   "outputs": [],
   "source": [
    "similarities = dict()\n",
    "for d in omim:\n",
    "    name = ...\n",
    "    phens = list(map(ontology.get_hpo_object, omim[d]))\n",
    "    score = patient_hpos.similarity(phens)\n",
    "    similarities[d] = score\n",
    "    print(name + ': ' + str(score))"
   ]
  },
  {
   "cell_type": "markdown",
   "metadata": {},
   "source": [
    "Well, there are quite a lot, so let's get the top ten:"
   ]
  },
  {
   "cell_type": "code",
   "execution_count": null,
   "metadata": {},
   "outputs": [],
   "source": [
    "import operator\n",
    "sorted_similarities = sorted(similarities.items(), key=operator.itemgetter(1), reverse = True)\n",
    "for i in range(0, 30):\n",
    "    print(omim_names[sorted_similarities[i][0]] + ': ' + str(sorted_similarities[i][1]))"
   ]
  },
  {
   "cell_type": "markdown",
   "metadata": {},
   "source": [
    "And we can see that, indeed, the most similar disease to our patient's phenotypic profile is the disease that the patient has:"
   ]
  },
  {
   "cell_type": "code",
   "execution_count": null,
   "metadata": {},
   "outputs": [],
   "source": [
    "omim_names[patient_diagnosis] == omim_names[sorted_similarities[0][0]]"
   ]
  },
  {
   "cell_type": "markdown",
   "metadata": {},
   "source": [
    "Now try to select your own patient, and use components of the code above to perform your own semantic similarity experiment. See if you can find a patient for whom semantic similarity fails to find the right disease. "
   ]
  },
  {
   "cell_type": "code",
   "execution_count": null,
   "metadata": {},
   "outputs": [],
   "source": [
    "patient_id = . . .\n",
    "patient = patient[patient_id]\n",
    "patient_diagnosis = diagnosis[patient_id]\n",
    "\n",
    ". . ."
   ]
  },
  {
   "cell_type": "markdown",
   "metadata": {},
   "source": [
    "Depending on the level of inspecificity, we may not always be correct. However, this should still be useful as a hypothesis finding tool.\n",
    "\n",
    "We can measure how well we find the correct disease, by generating the similarities. By creating a score for each disease for each patient, we test how good the semantic similarity classifier is at *ranking* the \n",
    "\n",
    "This will probably take some time, since there is a lot of processing. If you are a computer scientist, maybe you can make it multiprocess."
   ]
  },
  {
   "cell_type": "code",
   "execution_count": null,
   "metadata": {},
   "outputs": [],
   "source": [
    "scores = list()\n",
    "truth = list()\n",
    "\n",
    "for p in patients:\n",
    "    patient_hpos = HPOSet(list(map(ontology.get_hpo_object, patients[p])))\n",
    "    for d in omim:\n",
    "        name = omim_names[d]\n",
    "        phens = HPOSet(list(map(ontology.get_hpo_object, omim[d])))\n",
    "        score = patient_hpos.similarity(phens)\n",
    "        does_patient_have_disease = diagnosis[p] == ...\n",
    "        \n",
    "        if does_patient_have_disease:\n",
    "            print(diagnosis[p] + ' ' + d + ' ' + str(does_patient_have_disease))\n",
    "\n",
    "        scores.append(score)\n",
    "        truth.append(does_patient_have_disease)\n",
    "        \n",
    "print('done')\n"
   ]
  },
  {
   "cell_type": "markdown",
   "metadata": {},
   "source": [
    "In science, it is common to have to wait. But normally, after waiting, it won't work and then you'll have to do it all again. Hopefully, in this case, it's fine, we can finally calculate an AUC:"
   ]
  },
  {
   "cell_type": "code",
   "execution_count": null,
   "metadata": {},
   "outputs": [],
   "source": [
    "auc = sklearn.metrics.roc_auc_score(truth, scores)\n",
    "fpr, tpr, _ = sklearn.metrics.roc_curve(truth, scores)\n",
    "plt.plot(fpr, tpr, label=\"OMIM disease prediction, AUC= \" + str(auc))\n",
    "plt.legend(loc=4)\n",
    "plt.show()"
   ]
  },
  {
   "cell_type": "code",
   "execution_count": null,
   "metadata": {},
   "outputs": [],
   "source": [
    "for term in ontology.search('hypertension'):\n",
    "    print(term)"
   ]
  }
 ],
 "metadata": {
  "kernelspec": {
   "display_name": "Python 3",
   "language": "python",
   "name": "python3"
  },
  "language_info": {
   "codemirror_mode": {
    "name": "ipython",
    "version": 3
   },
   "file_extension": ".py",
   "mimetype": "text/x-python",
   "name": "python",
   "nbconvert_exporter": "python",
   "pygments_lexer": "ipython3",
   "version": "3.7.4"
  }
 },
 "nbformat": 4,
 "nbformat_minor": 2
}
