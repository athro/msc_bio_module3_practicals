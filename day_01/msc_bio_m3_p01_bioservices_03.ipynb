{
 "cells": [
  {
   "cell_type": "markdown",
   "metadata": {},
   "source": [
    "# Retrieving Sequences\n",
    "\n",
    "It is also possible to retieve sequenes using bioservices. The following example uses the EUtils of bioservices. "
   ]
  },
  {
   "cell_type": "code",
   "execution_count": null,
   "metadata": {},
   "outputs": [],
   "source": [
    "import os, os.path, sys\n",
    "import pandas as pd\n",
    "import numpy as np\n",
    "\n",
    "from bioservices import *\n"
   ]
  },
  {
   "cell_type": "code",
   "execution_count": null,
   "metadata": {},
   "outputs": [],
   "source": [
    "entrez = EUtils()"
   ]
  },
  {
   "cell_type": "markdown",
   "metadata": {},
   "source": [
    "List all availalable databses using the ```database```method:\n",
    "\n",
    "```python\n",
    "entrez.databases\n",
    "```\n"
   ]
  },
  {
   "cell_type": "code",
   "execution_count": null,
   "metadata": {},
   "outputs": [],
   "source": [
    "entrez.databases"
   ]
  },
  {
   "cell_type": "markdown",
   "metadata": {},
   "source": [
    "To get a FASTA sequence use the ```EFetch``` method. \n",
    "\n",
    "```pthon\n",
    "entrez.EFetch('protein','34577063', rettype='fasta')\n",
    "```\n"
   ]
  },
  {
   "cell_type": "code",
   "execution_count": null,
   "metadata": {},
   "outputs": [],
   "source": [
    "entrez.EFetch('protein','34577063', rettype='fasta')"
   ]
  },
  {
   "cell_type": "markdown",
   "metadata": {},
   "source": [
    "Sadly, the method return only a binary string. To convert this binary string to pure ASCII, use the ```.decode('ascii')``` method of strings:\n",
    "\n",
    "```python\n",
    "entrez.EFetch('protein','34577063', rettype='fasta').decode('ascii')\n",
    "```\n"
   ]
  },
  {
   "cell_type": "code",
   "execution_count": null,
   "metadata": {},
   "outputs": [],
   "source": [
    "entrez.EFetch('protein','34577063', rettype='fasta').decode('ascii')"
   ]
  },
  {
   "cell_type": "markdown",
   "metadata": {},
   "source": [
    "Print the result using ```print```. You might observe that there are some addtional empty lines. use the ```strip()``` method to remove 'empty' characters.\n",
    "\n"
   ]
  },
  {
   "cell_type": "code",
   "execution_count": null,
   "metadata": {},
   "outputs": [],
   "source": [
    "print(ret_fasta.strip())"
   ]
  },
  {
   "cell_type": "markdown",
   "metadata": {},
   "source": [
    "You can also pass a number of accession number either as a python list or as a sting, separating the ids with a comma. \n",
    "\n",
    "```python\n",
    "entrez.EFetch('protein', [352, 234], rettype='fasta').decode('ascii')\n",
    "entrez.EFetch('protein', '352, 234', rettype='fasta').decode('ascii')\n",
    "```\n",
    "\n",
    "Please try both."
   ]
  },
  {
   "cell_type": "code",
   "execution_count": null,
   "metadata": {},
   "outputs": [],
   "source": []
  },
  {
   "cell_type": "code",
   "execution_count": null,
   "metadata": {},
   "outputs": [],
   "source": []
  },
  {
   "cell_type": "markdown",
   "metadata": {},
   "source": [
    "Other databases are possible. The following access the ```taxonomy``` and returns the result as text encoded xml. \n",
    "\n",
    "```python\n",
    "ret_xml_string = entrez.EFetch('taxonomy', '9606', retmode='xml').decode('ascii')\n",
    "```\n"
   ]
  },
  {
   "cell_type": "code",
   "execution_count": null,
   "metadata": {},
   "outputs": [],
   "source": []
  },
  {
   "cell_type": "code",
   "execution_count": null,
   "metadata": {},
   "outputs": [],
   "source": [
    "print(ret_xml_string)"
   ]
  },
  {
   "cell_type": "markdown",
   "metadata": {},
   "source": [
    "To propperly parse the XML string, you will need to use an XML parser. The following parses the a xml string and lists all entries conatining the tag 'SomeTagName':\n",
    "\n",
    "```python\n",
    "from xml.etree.ElementTree import fromstring, ElementTree # only required once\n",
    "res_tree = ElementTree(fromstring(some_xml_string))\n",
    "\n",
    "[(x.tag,x.text) for x in list(res_tree.iter('SomeTagName'))]\n",
    "```\n",
    "\n",
    "Change the code such taht it works with your variable and search for 'ScientificName'."
   ]
  },
  {
   "cell_type": "code",
   "execution_count": null,
   "metadata": {},
   "outputs": [],
   "source": [
    "from xml.etree.ElementTree import fromstring, ElementTree\n",
    "res_tree = ElementTree(fromstring(ret_xml_string))\n",
    "\n",
    "[(x.tag,x.text) for x in list(res_tree.iter('ScientificName'))]"
   ]
  },
  {
   "cell_type": "code",
   "execution_count": null,
   "metadata": {},
   "outputs": [],
   "source": [
    "[(x.tag,x.text) for x in list(res_tree.iter('TaxId'))]"
   ]
  },
  {
   "cell_type": "code",
   "execution_count": null,
   "metadata": {},
   "outputs": [],
   "source": []
  }
 ],
 "metadata": {
  "kernelspec": {
   "display_name": "Python 3",
   "language": "python",
   "name": "python3"
  },
  "language_info": {
   "codemirror_mode": {
    "name": "ipython",
    "version": 3
   },
   "file_extension": ".py",
   "mimetype": "text/x-python",
   "name": "python",
   "nbconvert_exporter": "python",
   "pygments_lexer": "ipython3",
   "version": "3.7.3"
  }
 },
 "nbformat": 4,
 "nbformat_minor": 2
}
