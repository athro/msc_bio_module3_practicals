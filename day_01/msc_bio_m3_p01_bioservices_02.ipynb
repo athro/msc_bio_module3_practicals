{
 "cells": [
  {
   "cell_type": "markdown",
   "metadata": {},
   "source": [
    "# A general get function\n",
    "\n",
    "Write a function ```get_bm_res``` which executes a BioMart query. It should take the following parameters:\n",
    "\n",
    "```biomart```: a BioMart object\n",
    "```dataset```: a dataset\n",
    "```attributes```: a list of attributes\n",
    "```filters```: a list of filters\n",
    "\n",
    "The function should return a pandas DataFrame containing the results of the BioMart query.\n",
    "\n",
    "Here is how the call of the function should look like:\n",
    "\n",
    "```python\n",
    "bm = BioMart(host='www.ensembl.org')\n",
    "\n",
    "attributes = ['ensembl_gene_id','ensembl_transcript_id',\n",
    "              'hgnc_symbol','chromosome_name','start_position',\n",
    "              'end_position']\n",
    "filters    = [('chromosome_name','1')]\n",
    "dataset    = 'hsapiens_gene_ensembl'\n",
    "\n",
    "\n",
    "res = get_bm_res(bm,attributes=attributes,dataset=dataset,filters=filters)\n",
    "```\n",
    "\n"
   ]
  },
  {
   "cell_type": "code",
   "execution_count": null,
   "metadata": {},
   "outputs": [],
   "source": [
    "import os, os.path, sys\n",
    "import pandas as pd\n",
    "import numpy as np\n",
    "\n",
    "from bioservices import *"
   ]
  },
  {
   "cell_type": "markdown",
   "metadata": {},
   "source": [
    "To simplify the task, you can use the following function skeleton:\n",
    "\n",
    "\n",
    "```python\n",
    "def get_bm_res(biomart, dataset=None,attributes=[],filters=[]):\n",
    "    if biomart and dataset:\n",
    "        # create new query\n",
    "        biomart.new_query()\n",
    "        # add dataset \n",
    "\n",
    "        # add attributes\n",
    "\n",
    "        # add filters\n",
    "        [biomart.add_filter_to_xml(x[0],x[1]) for x in filters]\n",
    "        # construct xml query\n",
    "        query_xml = \n",
    "        # get query results\n",
    "        res = biomart.query(query_xml).strip()\n",
    "        # debug\n",
    "        if res and len(res) < 1000:\n",
    "            print(res)\n",
    "        # construct array of arrys \n",
    "        res_data = []\n",
    "        # construct dataframe\n",
    "        df = pd.DataFrame()\n",
    "        return df\n",
    "    else:\n",
    "        return None\n",
    "        \n",
    "\n",
    "```\n"
   ]
  },
  {
   "cell_type": "code",
   "execution_count": null,
   "metadata": {},
   "outputs": [],
   "source": []
  },
  {
   "cell_type": "code",
   "execution_count": null,
   "metadata": {},
   "outputs": [],
   "source": [
    "bm = BioMart(host='www.ensembl.org')\n",
    "\n",
    "attributes = ['ensembl_gene_id','ensembl_transcript_id',\n",
    "              'hgnc_symbol','chromosome_name','start_position',\n",
    "              'end_position']\n",
    "filters    = [('chromosome_name','1')]\n",
    "dataset    = 'hsapiens_gene_ensembl'\n",
    "\n",
    "\n",
    "res = get_bm_res(bm,attributes=attributes,dataset=dataset,filters=filters)\n",
    "\n",
    "res.head(20)"
   ]
  },
  {
   "cell_type": "markdown",
   "metadata": {},
   "source": [
    "Use the function to retrieve the following query. \n",
    "\n",
    "```python\n",
    "attributes = ['ensembl_gene_id','ensembl_transcript_id','hgnc_symbol',\n",
    "              'hgnc_id','uniprot_swissprot']\n",
    "filters    = [('ensembl_gene_id','ENSG00000139618')]\n",
    "dataset    = 'hsapiens_gene_ensembl'\n",
    "\n",
    "res_new = get_bm_res(bm,attributes=attributes,dataset=dataset,filters=filters)\n",
    "```\n",
    "\n",
    "\n",
    "Please note, that the query contains an error."
   ]
  },
  {
   "cell_type": "code",
   "execution_count": null,
   "metadata": {},
   "outputs": [],
   "source": [
    "attributes = ['ensembl_gene_id','ensembl_transcript_id','hgnc_symbol',\n",
    "              'hgnc_id','uniprot_swissprot']\n",
    "filters    = [('ensembl_gene_id','ENSG00000139618')]\n",
    "dataset    = 'hsapiens_gene_ensembl'\n",
    "\n",
    "res_new = get_bm_res(bm,attributes=attributes,dataset=dataset,filters=filters)\n"
   ]
  },
  {
   "cell_type": "markdown",
   "metadata": {},
   "source": [
    "You might want to consider to search for attributes having the substring ```'uniprot'```\n",
    "\n",
    "```python\n",
    "[x for x in bm.attributes(dataset) if x.find('uniprot')>= 0] \n",
    "```\n"
   ]
  },
  {
   "cell_type": "code",
   "execution_count": null,
   "metadata": {},
   "outputs": [],
   "source": []
  },
  {
   "cell_type": "markdown",
   "metadata": {},
   "source": [
    "You might want to check the original query."
   ]
  },
  {
   "cell_type": "code",
   "execution_count": null,
   "metadata": {},
   "outputs": [],
   "source": []
  },
  {
   "cell_type": "code",
   "execution_count": null,
   "metadata": {},
   "outputs": [],
   "source": []
  },
  {
   "cell_type": "code",
   "execution_count": null,
   "metadata": {},
   "outputs": [],
   "source": []
  },
  {
   "cell_type": "code",
   "execution_count": null,
   "metadata": {},
   "outputs": [],
   "source": []
  },
  {
   "cell_type": "code",
   "execution_count": null,
   "metadata": {},
   "outputs": [],
   "source": []
  },
  {
   "cell_type": "code",
   "execution_count": null,
   "metadata": {},
   "outputs": [],
   "source": []
  },
  {
   "cell_type": "code",
   "execution_count": null,
   "metadata": {},
   "outputs": [],
   "source": []
  },
  {
   "cell_type": "code",
   "execution_count": null,
   "metadata": {},
   "outputs": [],
   "source": []
  },
  {
   "cell_type": "code",
   "execution_count": null,
   "metadata": {},
   "outputs": [],
   "source": []
  },
  {
   "cell_type": "code",
   "execution_count": null,
   "metadata": {},
   "outputs": [],
   "source": []
  },
  {
   "cell_type": "code",
   "execution_count": null,
   "metadata": {},
   "outputs": [],
   "source": []
  },
  {
   "cell_type": "code",
   "execution_count": null,
   "metadata": {},
   "outputs": [],
   "source": []
  },
  {
   "cell_type": "code",
   "execution_count": null,
   "metadata": {},
   "outputs": [],
   "source": []
  },
  {
   "cell_type": "code",
   "execution_count": null,
   "metadata": {},
   "outputs": [],
   "source": []
  },
  {
   "cell_type": "code",
   "execution_count": null,
   "metadata": {},
   "outputs": [],
   "source": []
  },
  {
   "cell_type": "code",
   "execution_count": null,
   "metadata": {},
   "outputs": [],
   "source": []
  },
  {
   "cell_type": "code",
   "execution_count": null,
   "metadata": {},
   "outputs": [],
   "source": []
  },
  {
   "cell_type": "code",
   "execution_count": null,
   "metadata": {},
   "outputs": [],
   "source": [
    "attributes = ['ensembl_gene_id','ensembl_transcript_id','hgnc_symbol',\n",
    "              'hgnc_id','uniprotswissprot']\n",
    "filters    = [('ensembl_gene_id','ENSG00000139618')]\n",
    "dataset    = 'hsapiens_gene_ensembl'\n",
    "\n",
    "res_new = get_bm_res(bm,attributes=attributes,dataset=dataset,filters=filters)\n"
   ]
  },
  {
   "cell_type": "code",
   "execution_count": null,
   "metadata": {},
   "outputs": [],
   "source": [
    "def get_bm_res(biomart, dataset=None,attributes=[],filters=[]):\n",
    "    if biomart and dataset:\n",
    "        # create new query\n",
    "        biomart.new_query()\n",
    "        \n",
    "        # add dataset \n",
    "        biomart.add_dataset_to_xml(dataset)\n",
    "\n",
    "        # add attributes\n",
    "        [biomart.add_attribute_to_xml(x) for x in attributes]\n",
    "\n",
    "        # add filters\n",
    "        [biomart.add_filter_to_xml(x[0],x[1]) for x in filters]\n",
    "        \n",
    "        # construct xml query\n",
    "        query_xml = biomart.get_xml()\n",
    "        \n",
    "        # get query results\n",
    "        res = biomart.query(query_xml).strip()\n",
    "\n",
    "        # debug\n",
    "        if res and len(res) < 1000:\n",
    "            print(res)\n",
    "        \n",
    "        # construct array of arrys \n",
    "        res_data = [x.split('\\t') for x in res.split('\\n')]\n",
    "\n",
    "        # construct dataframe\n",
    "        df = pd.DataFrame(res_data,columns=attributes)\n",
    "\n",
    "        return df\n",
    "    else:\n",
    "        return None\n",
    "        \n",
    "        \n",
    "    "
   ]
  }
 ],
 "metadata": {
  "celltoolbar": "Raw Cell Format",
  "kernelspec": {
   "display_name": "Python 3",
   "language": "python",
   "name": "python3"
  },
  "language_info": {
   "codemirror_mode": {
    "name": "ipython",
    "version": 3
   },
   "file_extension": ".py",
   "mimetype": "text/x-python",
   "name": "python",
   "nbconvert_exporter": "python",
   "pygments_lexer": "ipython3",
   "version": "3.7.3"
  }
 },
 "nbformat": 4,
 "nbformat_minor": 2
}
